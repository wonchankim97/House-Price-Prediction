{
 "cells": [
  {
   "cell_type": "code",
   "execution_count": 2,
   "metadata": {},
   "outputs": [
    {
     "name": "stderr",
     "output_type": "stream",
     "text": [
      "/anaconda3/lib/python3.7/site-packages/lightgbm/__init__.py:46: UserWarning: Starting from version 2.2.1, the library file in distribution wheels for macOS is built by the Apple Clang (Xcode_8.3.3) compiler.\n",
      "This means that in case of installing LightGBM from PyPI via the ``pip install lightgbm`` command, you don't need to install the gcc compiler anymore.\n",
      "Instead of that, you need to install the OpenMP library, which is required for running LightGBM on the system with the Apple Clang compiler.\n",
      "You can install the OpenMP library by the following command: ``brew install libomp``.\n",
      "  \"You can install the OpenMP library by the following command: ``brew install libomp``.\", UserWarning)\n"
     ]
    }
   ],
   "source": [
    "# my branch\n",
    "import sys\n",
    "sys.path.append('../')\n",
    "\n",
    "import pandas as pd\n",
    "import numpy as np\n",
    "from mlxtend.regressor import StackingRegressor\n",
    "from sklearn.ensemble import RandomForestRegressor, AdaBoostRegressor\n",
    "from sklearn.linear_model import Lasso, Ridge, ElasticNet\n",
    "from sklearn.svm import SVR\n",
    "import xgboost as xgb\n",
    "import lightgbm as lgb\n",
    "\n",
    "from modules.featureEng import *\n",
    "from modules.modelEng import *\n",
    "\n",
    "# to display entire data\n",
    "pd.set_option('display.max_rows', 1500)\n",
    "pd.set_option('display.max_columns', 150)"
   ]
  },
  {
   "cell_type": "code",
   "execution_count": 3,
   "metadata": {},
   "outputs": [],
   "source": [
    "\"\"\"\n",
    "Load Data\n",
    "\"\"\"\n",
    "\n",
    "train_df = pd.read_csv('data/train.csv', index_col='Id')\n",
    "test_df = pd.read_csv('data/test.csv', index_col='Id')"
   ]
  },
  {
   "cell_type": "code",
   "execution_count": 5,
   "metadata": {
    "scrolled": false
   },
   "outputs": [],
   "source": [
    "\"\"\"\n",
    "Feature Engineering\n",
    "\"\"\"\n",
    "\n",
    "train_X = train_df.loc[:,train_df.columns!='SalePrice']\n",
    "train_Y = train_df['SalePrice']\n",
    "test_X = test_df.copy()\n",
    "\n",
    "### for testing ###\n",
    "# from sklearn.model_selection import train_test_split\n",
    "# train_X, test_X, train_Y, test_Y = train_test_split(train_X, train_Y, random_state=777)\n",
    "###################\n",
    "\n",
    "# train_X, train_Y, test_X = pre_processing(train_X, train_Y, test_X)"
   ]
  },
  {
   "cell_type": "code",
   "execution_count": 6,
   "metadata": {
    "scrolled": true
   },
   "outputs": [
    {
     "name": "stdout",
     "output_type": "stream",
     "text": [
      "Fitting 5 folds for each of 12 candidates, totalling 60 fits\n"
     ]
    },
    {
     "name": "stderr",
     "output_type": "stream",
     "text": [
      "[Parallel(n_jobs=-1)]: Using backend LokyBackend with 8 concurrent workers.\n",
      "[Parallel(n_jobs=-1)]: Done  34 tasks      | elapsed:    3.5s\n",
      "[Parallel(n_jobs=-1)]: Done  60 out of  60 | elapsed:    3.9s finished\n",
      "[Parallel(n_jobs=-1)]: Using backend LokyBackend with 8 concurrent workers.\n",
      "[Parallel(n_jobs=-1)]: Done   2 out of   5 | elapsed:    0.1s remaining:    0.1s\n",
      "[Parallel(n_jobs=-1)]: Done   5 out of   5 | elapsed:    0.1s finished\n",
      "[Parallel(n_jobs=-1)]: Using backend LokyBackend with 8 concurrent workers.\n"
     ]
    },
    {
     "name": "stdout",
     "output_type": "stream",
     "text": [
      "Model: ElasticNet Score: (0.1356613303558297) Best params: {'alpha': 0.0005, 'l1_ratio': 0.9, 'max_iter': 10000}\n",
      "ElasticNet(alpha=0.0005, copy_X=True, fit_intercept=True, l1_ratio=0.9,\n",
      "           max_iter=10000, normalize=False, positive=False, precompute=False,\n",
      "           random_state=None, selection='cyclic', tol=0.0001, warm_start=False)\n",
      "Fitting 5 folds for each of 1 candidates, totalling 5 fits\n",
      "Model: Lasso Score: (0.13570174074542107) Best params: {'alpha': 0.0005, 'normalize': False}\n",
      "Lasso(alpha=0.0005, copy_X=True, fit_intercept=True, max_iter=1000,\n",
      "      normalize=False, positive=False, precompute=False, random_state=None,\n",
      "      selection='cyclic', tol=0.0001, warm_start=False)\n",
      "Fitting 5 folds for each of 2 candidates, totalling 10 fits\n"
     ]
    },
    {
     "name": "stderr",
     "output_type": "stream",
     "text": [
      "[Parallel(n_jobs=-1)]: Done   6 out of  10 | elapsed:    0.1s remaining:    0.0s\n",
      "[Parallel(n_jobs=-1)]: Done  10 out of  10 | elapsed:    0.1s finished\n",
      "[Parallel(n_jobs=-1)]: Using backend LokyBackend with 8 concurrent workers.\n"
     ]
    },
    {
     "name": "stdout",
     "output_type": "stream",
     "text": [
      "Model: Ridge Score: (0.13477455984964448) Best params: {'alpha': 10}\n",
      "Ridge(alpha=10, copy_X=True, fit_intercept=True, max_iter=None, normalize=False,\n",
      "      random_state=None, solver='auto', tol=0.001)\n",
      "Fitting 5 folds for each of 27 candidates, totalling 135 fits\n"
     ]
    },
    {
     "name": "stderr",
     "output_type": "stream",
     "text": [
      "[Parallel(n_jobs=-1)]: Done  34 tasks      | elapsed:   35.1s\n",
      "[Parallel(n_jobs=-1)]: Done 135 out of 135 | elapsed:  3.0min finished\n"
     ]
    },
    {
     "name": "stdout",
     "output_type": "stream",
     "text": [
      "Model: RandomForestRegressor Score: (0.16168256369324424) Best params: {'max_depth': 5, 'min_samples_leaf': 3, 'n_estimators': 1000}\n",
      "RandomForestRegressor(bootstrap=True, criterion='mse', max_depth=5,\n",
      "                      max_features='auto', max_leaf_nodes=None,\n",
      "                      min_impurity_decrease=0.0, min_impurity_split=None,\n",
      "                      min_samples_leaf=3, min_samples_split=2,\n",
      "                      min_weight_fraction_leaf=0.0, n_estimators=1000,\n",
      "                      n_jobs=None, oob_score=False, random_state=None,\n",
      "                      verbose=0, warm_start=False)\n",
      "Fitting 5 folds for each of 1 candidates, totalling 5 fits\n"
     ]
    },
    {
     "name": "stderr",
     "output_type": "stream",
     "text": [
      "[Parallel(n_jobs=-1)]: Using backend LokyBackend with 8 concurrent workers.\n",
      "[Parallel(n_jobs=-1)]: Done   2 out of   5 | elapsed:    2.5s remaining:    3.7s\n",
      "[Parallel(n_jobs=-1)]: Done   5 out of   5 | elapsed:    2.9s finished\n"
     ]
    },
    {
     "name": "stdout",
     "output_type": "stream",
     "text": [
      "Model: SVR Score: (0.1459756639765948) Best params: {'C': 10000, 'epsilon': 0.1, 'gamma': 'scale'}\n",
      "SVR(C=10000, cache_size=200, coef0=0.0, degree=3, epsilon=0.1, gamma='scale',\n",
      "    kernel='rbf', max_iter=-1, shrinking=True, tol=0.001, verbose=False)\n",
      "Fitting 5 folds for each of 1 candidates, totalling 5 fits\n"
     ]
    },
    {
     "name": "stderr",
     "output_type": "stream",
     "text": [
      "[Parallel(n_jobs=-1)]: Using backend LokyBackend with 8 concurrent workers.\n",
      "[Parallel(n_jobs=-1)]: Done   2 out of   5 | elapsed:   13.1s remaining:   19.7s\n",
      "[Parallel(n_jobs=-1)]: Done   5 out of   5 | elapsed:   13.3s finished\n",
      "/anaconda3/lib/python3.7/site-packages/xgboost/core.py:587: FutureWarning: Series.base is deprecated and will be removed in a future version\n",
      "  if getattr(data, 'base', None) is not None and \\\n"
     ]
    },
    {
     "name": "stdout",
     "output_type": "stream",
     "text": [
      "Model: XGBRegressor Score: (0.12385786176375425) Best params: {'colsample_bytree': 0.5, 'learning_rate': 0.05, 'max_depth': 5, 'n_estimators': 3000, 'refit': True, 'silent': True, 'subsample': 0.9}\n",
      "XGBRegressor(base_score=0.5, booster='gbtree', colsample_bylevel=1,\n",
      "             colsample_bynode=1, colsample_bytree=0.5, gamma=0,\n",
      "             importance_type='gain', learning_rate=0.05, max_delta_step=0,\n",
      "             max_depth=5, min_child_weight=1, missing=None, n_estimators=3000,\n",
      "             n_jobs=1, nthread=None, objective='reg:linear', random_state=0,\n",
      "             refit=True, reg_alpha=0, reg_lambda=1, scale_pos_weight=1,\n",
      "             seed=None, silent=True, subsample=0.9, verbosity=1)\n",
      "Fitting 5 folds for each of 1 candidates, totalling 5 fits\n"
     ]
    },
    {
     "name": "stderr",
     "output_type": "stream",
     "text": [
      "[Parallel(n_jobs=-1)]: Using backend LokyBackend with 8 concurrent workers.\n",
      "[Parallel(n_jobs=-1)]: Done   2 out of   5 | elapsed:    7.6s remaining:   11.3s\n",
      "[Parallel(n_jobs=-1)]: Done   5 out of   5 | elapsed:    7.6s finished\n"
     ]
    },
    {
     "name": "stdout",
     "output_type": "stream",
     "text": [
      "Model: LGBMRegressor Score: (0.13113364217540552) Best params: {'learning_rate': 0.05, 'max_bin': 80, 'n_estimators': 3000, 'num_leave': 1, 'objective': 'regression', 'refit': True}\n",
      "LGBMRegressor(boosting_type='gbdt', class_weight=None, colsample_bytree=1.0,\n",
      "              importance_type='split', learning_rate=0.05, max_bin=80,\n",
      "              max_depth=-1, min_child_samples=20, min_child_weight=0.001,\n",
      "              min_split_gain=0.0, n_estimators=3000, n_jobs=-1, num_leave=1,\n",
      "              num_leaves=31, objective='regression', random_state=None,\n",
      "              refit=True, reg_alpha=0.0, reg_lambda=0.0, silent=True,\n",
      "              subsample=1.0, subsample_for_bin=200000, subsample_freq=0)\n"
     ]
    },
    {
     "name": "stderr",
     "output_type": "stream",
     "text": [
      "/anaconda3/lib/python3.7/site-packages/xgboost/core.py:587: FutureWarning: Series.base is deprecated and will be removed in a future version\n",
      "  if getattr(data, 'base', None) is not None and \\\n"
     ]
    },
    {
     "data": {
      "text/plain": [
       "array([120253.14572971, 152503.51670222, 182705.61083529, ...,\n",
       "       150432.27212939, 108324.13837272, 221969.76742755])"
      ]
     },
     "execution_count": 6,
     "metadata": {},
     "output_type": "execute_result"
    }
   ],
   "source": [
    "\"\"\"\n",
    "Predict house price\n",
    "\"\"\"\n",
    "\n",
    "elastic_net = grid_search(train_X, train_Y, ElasticNet())\n",
    "lasso = grid_search(train_X, train_Y, Lasso())\n",
    "ridge = grid_search(train_X, train_Y, Ridge())\n",
    "# random_forest = grid_search(train_X, train_Y, RandomForestRegressor())\n",
    "support_vector_regressor = grid_search(train_X, train_Y, SVR())\n",
    "XGBoost = grid_search(train_X, train_Y, xgb.XGBRegressor())\n",
    "light_GBM = grid_search(train_X, train_Y, lgb.LGBMRegressor())\n",
    "\n",
    "stacked_regression = StackingRegressor(\n",
    "        regressors=[elastic_net, lasso, ridge, random_forest, XGBoost, light_GBM],\n",
    "        meta_regressor=support_vector_regressor\n",
    ")\n",
    "\n",
    "stacked_regression.fit(train_X, train_Y)\n",
    "\n",
    "stacked = stacked_regression.predict(test_X)"
   ]
  },
  {
   "cell_type": "code",
   "execution_count": 4,
   "metadata": {},
   "outputs": [
    {
     "name": "stdout",
     "output_type": "stream",
     "text": [
      "    MSSubClass MSZoning  LotFrontage  LotArea Street Alley LotShape  \\\n",
      "Id                                                                    \n",
      "1           60       RL         65.0     8450   Pave   NaN      Reg   \n",
      "2           20       RL         80.0     9600   Pave   NaN      Reg   \n",
      "3           60       RL         68.0    11250   Pave   NaN      IR1   \n",
      "4           70       RL         60.0     9550   Pave   NaN      IR1   \n",
      "5           60       RL         84.0    14260   Pave   NaN      IR1   \n",
      "\n",
      "   LandContour Utilities LotConfig LandSlope Neighborhood Condition1  \\\n",
      "Id                                                                     \n",
      "1          Lvl    AllPub    Inside       Gtl      CollgCr       Norm   \n",
      "2          Lvl    AllPub       FR2       Gtl      Veenker      Feedr   \n",
      "3          Lvl    AllPub    Inside       Gtl      CollgCr       Norm   \n",
      "4          Lvl    AllPub    Corner       Gtl      Crawfor       Norm   \n",
      "5          Lvl    AllPub       FR2       Gtl      NoRidge       Norm   \n",
      "\n",
      "   Condition2 BldgType HouseStyle  OverallQual  OverallCond  YearBuilt  \\\n",
      "Id                                                                       \n",
      "1        Norm     1Fam     2Story            7            5       2003   \n",
      "2        Norm     1Fam     1Story            6            8       1976   \n",
      "3        Norm     1Fam     2Story            7            5       2001   \n",
      "4        Norm     1Fam     2Story            7            5       1915   \n",
      "5        Norm     1Fam     2Story            8            5       2000   \n",
      "\n",
      "    YearRemodAdd RoofStyle RoofMatl Exterior1st Exterior2nd MasVnrType  \\\n",
      "Id                                                                       \n",
      "1           2003     Gable  CompShg     VinylSd     VinylSd    BrkFace   \n",
      "2           1976     Gable  CompShg     MetalSd     MetalSd       None   \n",
      "3           2002     Gable  CompShg     VinylSd     VinylSd    BrkFace   \n",
      "4           1970     Gable  CompShg     Wd Sdng     Wd Shng       None   \n",
      "5           2000     Gable  CompShg     VinylSd     VinylSd    BrkFace   \n",
      "\n",
      "    MasVnrArea ExterQual ExterCond Foundation BsmtQual BsmtCond BsmtExposure  \\\n",
      "Id                                                                             \n",
      "1        196.0        Gd        TA      PConc       Gd       TA           No   \n",
      "2          0.0        TA        TA     CBlock       Gd       TA           Gd   \n",
      "3        162.0        Gd        TA      PConc       Gd       TA           Mn   \n",
      "4          0.0        TA        TA     BrkTil       TA       Gd           No   \n",
      "5        350.0        Gd        TA      PConc       Gd       TA           Av   \n",
      "\n",
      "   BsmtFinType1  BsmtFinSF1 BsmtFinType2  BsmtFinSF2  BsmtUnfSF  TotalBsmtSF  \\\n",
      "Id                                                                             \n",
      "1           GLQ         706          Unf           0        150          856   \n",
      "2           ALQ         978          Unf           0        284         1262   \n",
      "3           GLQ         486          Unf           0        434          920   \n",
      "4           ALQ         216          Unf           0        540          756   \n",
      "5           GLQ         655          Unf           0        490         1145   \n",
      "\n",
      "   Heating HeatingQC CentralAir Electrical  1stFlrSF  2ndFlrSF  LowQualFinSF  \\\n",
      "Id                                                                             \n",
      "1     GasA        Ex          Y      SBrkr       856       854             0   \n",
      "2     GasA        Ex          Y      SBrkr      1262         0             0   \n",
      "3     GasA        Ex          Y      SBrkr       920       866             0   \n",
      "4     GasA        Gd          Y      SBrkr       961       756             0   \n",
      "5     GasA        Ex          Y      SBrkr      1145      1053             0   \n",
      "\n",
      "    GrLivArea  BsmtFullBath  BsmtHalfBath  FullBath  HalfBath  BedroomAbvGr  \\\n",
      "Id                                                                            \n",
      "1        1710             1             0         2         1             3   \n",
      "2        1262             0             1         2         0             3   \n",
      "3        1786             1             0         2         1             3   \n",
      "4        1717             1             0         1         0             3   \n",
      "5        2198             1             0         2         1             4   \n",
      "\n",
      "    KitchenAbvGr KitchenQual  TotRmsAbvGrd Functional  Fireplaces FireplaceQu  \\\n",
      "Id                                                                              \n",
      "1              1          Gd             8        Typ           0         NaN   \n",
      "2              1          TA             6        Typ           1          TA   \n",
      "3              1          Gd             6        Typ           1          TA   \n",
      "4              1          Gd             7        Typ           1          Gd   \n",
      "5              1          Gd             9        Typ           1          TA   \n",
      "\n",
      "   GarageType  GarageYrBlt GarageFinish  GarageCars  GarageArea GarageQual  \\\n",
      "Id                                                                           \n",
      "1      Attchd       2003.0          RFn           2         548         TA   \n",
      "2      Attchd       1976.0          RFn           2         460         TA   \n",
      "3      Attchd       2001.0          RFn           2         608         TA   \n",
      "4      Detchd       1998.0          Unf           3         642         TA   \n",
      "5      Attchd       2000.0          RFn           3         836         TA   \n",
      "\n",
      "   GarageCond PavedDrive  WoodDeckSF  OpenPorchSF  EnclosedPorch  3SsnPorch  \\\n",
      "Id                                                                            \n",
      "1          TA          Y           0           61              0          0   \n",
      "2          TA          Y         298            0              0          0   \n",
      "3          TA          Y           0           42              0          0   \n",
      "4          TA          Y           0           35            272          0   \n",
      "5          TA          Y         192           84              0          0   \n",
      "\n",
      "    ScreenPorch  PoolArea PoolQC Fence MiscFeature  MiscVal  MoSold  YrSold  \\\n",
      "Id                                                                            \n",
      "1             0         0    NaN   NaN         NaN        0       2    2008   \n",
      "2             0         0    NaN   NaN         NaN        0       5    2007   \n",
      "3             0         0    NaN   NaN         NaN        0       9    2008   \n",
      "4             0         0    NaN   NaN         NaN        0       2    2006   \n",
      "5             0         0    NaN   NaN         NaN        0      12    2008   \n",
      "\n",
      "   SaleType SaleCondition  SalePrice  \n",
      "Id                                    \n",
      "1        WD        Normal     208500  \n",
      "2        WD        Normal     181500  \n",
      "3        WD        Normal     223500  \n",
      "4        WD       Abnorml     140000  \n",
      "5        WD        Normal     250000  \n"
     ]
    }
   ],
   "source": [
    "print(train_df.head())"
   ]
  },
  {
   "cell_type": "code",
   "execution_count": 23,
   "metadata": {},
   "outputs": [],
   "source": [
    "ensembled = np.expm1(#(0.1 * elastic_net.predict(test_X)) +\n",
    "                     #(0.1 * lasso.predict(test_X)) +\n",
    "                     (0.4 * ridge.predict(test_X)) +\n",
    "                     #(0.2 * random_forest.predict(test_X)) +\n",
    "                     (0.4 * XGBoost.predict(test_X)) +\n",
    "                     (0.1 * light_GBM.predict(test_X)) +\n",
    "                     (0.1 * stacked))\n"
   ]
  },
  {
   "cell_type": "code",
   "execution_count": 24,
   "metadata": {},
   "outputs": [],
   "source": [
    "### for testing ###\n",
    "#RMSE = np.mean((ensembled - test_Y)**2)**(1/2) \n",
    "#print('Score : ' + str(RMSE))\n",
    "###################\n",
    "\n",
    "\"\"\"\n",
    "Export submission data\n",
    "\"\"\"\n",
    "submission = pd.DataFrame({\n",
    "    'Id':test_X.index,\n",
    "    'SalePrice':ensembled\n",
    "})\n",
    "submission.to_csv('data/submission.csv', index=False)"
   ]
  },
  {
   "cell_type": "code",
   "execution_count": null,
   "metadata": {},
   "outputs": [],
   "source": []
  }
 ],
 "metadata": {
  "kernelspec": {
   "display_name": "Python 3",
   "language": "python",
   "name": "python3"
  },
  "language_info": {
   "codemirror_mode": {
    "name": "ipython",
    "version": 3
   },
   "file_extension": ".py",
   "mimetype": "text/x-python",
   "name": "python",
   "nbconvert_exporter": "python",
   "pygments_lexer": "ipython3",
   "version": "3.7.3"
  }
 },
 "nbformat": 4,
 "nbformat_minor": 2
}
