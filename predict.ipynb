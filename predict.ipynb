{
 "cells": [
  {
   "cell_type": "code",
   "execution_count": 1,
   "metadata": {},
   "outputs": [
    {
     "name": "stderr",
     "output_type": "stream",
     "text": [
      "/Users/necronia/anaconda3/lib/python3.7/site-packages/lightgbm/__init__.py:46: UserWarning: Starting from version 2.2.1, the library file in distribution wheels for macOS is built by the Apple Clang (Xcode_9.4.1) compiler.\n",
      "This means that in case of installing LightGBM from PyPI via the ``pip install lightgbm`` command, you don't need to install the gcc compiler anymore.\n",
      "Instead of that, you need to install the OpenMP library, which is required for running LightGBM on the system with the Apple Clang compiler.\n",
      "You can install the OpenMP library by the following command: ``brew install libomp``.\n",
      "  \"You can install the OpenMP library by the following command: ``brew install libomp``.\", UserWarning)\n"
     ]
    }
   ],
   "source": [
    "import sys\n",
    "sys.path.append('../')\n",
    "\n",
    "import pandas as pd\n",
    "import numpy as np\n",
    "from mlxtend.regressor import StackingRegressor\n",
    "from sklearn.ensemble import RandomForestRegressor, GradientBoostingRegressor\n",
    "from sklearn.linear_model import Lasso, Ridge, ElasticNet\n",
    "from sklearn.svm import SVR\n",
    "import xgboost as xgb\n",
    "import lightgbm as lgb\n",
    "\n",
    "from modules.featureEng import *\n",
    "from modules.modelEng import *\n",
    "\n",
    "# to display entire data\n",
    "#pd.set_option('display.max_rows', 1500)\n",
    "pd.set_option('display.max_columns', 500)"
   ]
  },
  {
   "cell_type": "code",
   "execution_count": 2,
   "metadata": {},
   "outputs": [],
   "source": [
    "\"\"\"\n",
    "Load Data\n",
    "\"\"\"\n",
    "\n",
    "train_df = pd.read_csv('data/train.csv', index_col='Id')\n",
    "test_df = pd.read_csv('data/test.csv', index_col='Id')"
   ]
  },
  {
   "cell_type": "code",
   "execution_count": 3,
   "metadata": {
    "scrolled": false
   },
   "outputs": [],
   "source": [
    "\"\"\"\n",
    "Feature Engineering\n",
    "\"\"\"\n",
    "\n",
    "train_X_bf = train_df.loc[:,train_df.columns!='SalePrice']\n",
    "train_Y_bf = train_df['SalePrice']\n",
    "test_X_bf = test_df\n",
    "\n",
    "### for testing ###\n",
    "#from sklearn.model_selection import train_test_split\n",
    "#train_X_bf, test_X_bf, train_Y_bf, test_Y = train_test_split(train_X_bf, train_Y_bf, random_state=777)\n",
    "###################\n",
    "\n",
    "train_X, train_Y, test_X = pre_processing(train_X_bf.copy(), train_Y_bf.copy(), test_X_bf.copy())"
   ]
  },
  {
   "cell_type": "code",
   "execution_count": 5,
   "metadata": {
    "scrolled": false
   },
   "outputs": [
    {
     "name": "stdout",
     "output_type": "stream",
     "text": [
      "Fitting 5 folds for each of 18 candidates, totalling 90 fits\n"
     ]
    },
    {
     "name": "stderr",
     "output_type": "stream",
     "text": [
      "[Parallel(n_jobs=-1)]: Using backend LokyBackend with 16 concurrent workers.\n",
      "[Parallel(n_jobs=-1)]: Done  18 tasks      | elapsed:   20.6s\n",
      "/Users/necronia/anaconda3/lib/python3.7/site-packages/joblib/externals/loky/process_executor.py:706: UserWarning: A worker stopped while some jobs were given to the executor. This can be caused by a too short worker timeout or by a memory leak.\n",
      "  \"timeout or by a memory leak.\", UserWarning\n",
      "[Parallel(n_jobs=-1)]: Done  90 out of  90 | elapsed:  1.1min finished\n"
     ]
    },
    {
     "name": "stdout",
     "output_type": "stream",
     "text": [
      "Model: SVR Score: (0.10969550991273413) Best params: {'C': 80000, 'epsilon': 0.05, 'gamma': 3e-08, 'kernel': 'rbf'}\n",
      "SVR(C=80000, cache_size=200, coef0=0.0, degree=3, epsilon=0.05, gamma=3e-08,\n",
      "    kernel='rbf', max_iter=-1, shrinking=True, tol=0.001, verbose=False)\n"
     ]
    },
    {
     "data": {
      "text/plain": [
       "0.9267881461910762"
      ]
     },
     "execution_count": 5,
     "metadata": {},
     "output_type": "execute_result"
    }
   ],
   "source": [
    "\"\"\"\n",
    "Predict house price\n",
    "\"\"\"\n",
    "\n",
    "#elastic_net = grid_search(train_X, train_Y, ElasticNet())\n",
    "#lasso = grid_search(train_X, train_Y, Lasso())\n",
    "#ridge = grid_search(train_X, train_Y, Ridge())\n",
    "#random_forest = grid_search(train_X, train_Y, RandomForestRegressor())\n",
    "support_vector_regressor = grid_search(train_X, train_Y, SVR())\n",
    "#gradient_boost_regressor = grid_search(train_X, train_Y, GradientBoostingRegressor())\n",
    "#XGBoost = grid_search(train_X, train_Y, xgb.XGBRegressor())\n",
    "#light_GBM = grid_search(train_X, train_Y, lgb.LGBMRegressor())\n",
    "\n",
    "stacked_regression = StackingRegressor(\n",
    "        #regressors=[elastic_net, lasso, ridge, random_forest, gradient_boost_regressor, XGBoost, light_GBM],\n",
    "        regressors=[support_vector_regressor],\n",
    "        meta_regressor=support_vector_regressor\n",
    ")\n",
    "\n",
    "stacked_regression.fit(train_X, train_Y)\n",
    "\n",
    "stacked = stacked_regression.predict(test_X)\n",
    "\n",
    "ensembled = np.expm1(#(0.1 * elastic_net.predict(test_X)) +\n",
    "                     #(0.1 * lasso.predict(test_X)) +\n",
    "                     #(0.1 * ridge.predict(test_X)) +\n",
    "                     #(0.05 * random_forest.predict(test_X)) +\n",
    "                     #(1 * support_vector_regressor.predict(test_X))) +\n",
    "                     #(0.3 * gradient_boost_regressor.predict(test_X)) +\n",
    "                     #(0.3 * XGBoost.predict(test_X)) +\n",
    "                     #(0.2 * light_GBM.predict(test_X)) +\n",
    "                     (1 * stacked))\n",
    "                     \n",
    "\n",
    "stacked_regression.score(train_X, train_Y)"
   ]
  },
  {
   "cell_type": "code",
   "execution_count": 6,
   "metadata": {},
   "outputs": [],
   "source": [
    "### for testing ###\n",
    "#RMSE = np.mean((ensembled - test_Y)**2)**(1/2) \n",
    "#print('Score : ' + str(RMSE))\n",
    "###################\n",
    "\n",
    "\"\"\"\n",
    "Export submission data\n",
    "\"\"\"\n",
    "submission = pd.DataFrame({\n",
    "    'Id':test_X.index + (len(train_X_bf) - len(train_X) + 1),\n",
    "    'SalePrice':ensembled\n",
    "})\n",
    "submission.to_csv('data/submission.csv', index=False)"
   ]
  },
  {
   "cell_type": "code",
   "execution_count": null,
   "metadata": {},
   "outputs": [],
   "source": []
  }
 ],
 "metadata": {
  "kernelspec": {
   "display_name": "Python 3",
   "language": "python",
   "name": "python3"
  },
  "language_info": {
   "codemirror_mode": {
    "name": "ipython",
    "version": 3
   },
   "file_extension": ".py",
   "mimetype": "text/x-python",
   "name": "python",
   "nbconvert_exporter": "python",
   "pygments_lexer": "ipython3",
   "version": "3.7.3"
  }
 },
 "nbformat": 4,
 "nbformat_minor": 2
}
